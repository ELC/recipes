{
 "cells": [
  {
   "cell_type": "code",
   "execution_count": null,
   "id": "40b27673",
   "metadata": {},
   "outputs": [],
   "source": [
    "import numpy as np\n",
    "import seaborn as sns\n",
    "from tqdm.notebook import tqdm\n",
    "from sklearn.base import BaseEstimator, TransformerMixin, clone\n",
    "from sklearn.ensemble import RandomForestRegressor\n",
    "import numpy as np\n",
    "from matplotlib import pyplot as plt\n",
    "from sklearn.model_selection import train_test_split\n",
    "import sklearn\n",
    "from sklego.meta.estimator_transformer import EstimatorTransformer\n",
    "from scores.probability import crps_cdf\n",
    "import pandas as pd\n",
    "from functools import partial\n",
    "from scipy import stats\n",
    "\n",
    "from src.marginal_bootstrap import *"
   ]
  },
  {
   "cell_type": "code",
   "execution_count": null,
   "id": "786d4cc3",
   "metadata": {},
   "outputs": [],
   "source": [
    "import warnings\n",
    "\n",
    "warnings.filterwarnings(\"ignore\")"
   ]
  },
  {
   "cell_type": "code",
   "execution_count": null,
   "id": "6c74aec9",
   "metadata": {},
   "outputs": [],
   "source": [
    "%load_ext autoreload\n",
    "%autoreload 2"
   ]
  },
  {
   "cell_type": "code",
   "execution_count": null,
   "id": "dd32dab4",
   "metadata": {},
   "outputs": [],
   "source": [
    "sklearn.set_config(enable_metadata_routing=True)"
   ]
  },
  {
   "cell_type": "code",
   "execution_count": null,
   "id": "2414e3e1",
   "metadata": {},
   "outputs": [],
   "source": [
    "plt.style.use(\"bmh\")"
   ]
  },
  {
   "cell_type": "code",
   "execution_count": null,
   "id": "d3fb228c",
   "metadata": {},
   "outputs": [],
   "source": [
    "SEED = 42\n",
    "SAMPLE = 200\n",
    "BOOTSTRAPS_OUTER = 1000\n",
    "BOOTSTRAPS_INNER = 500\n",
    "\n",
    "RUNS = 1500\n",
    "\n",
    "statistic_of_interest = partial(np.mean, axis=0)\n",
    "\n",
    "distribution = stats.beta(9, 1)\n",
    "\n",
    "TRUE_MEAN = distribution.stats()[0]\n",
    "\n",
    "random_generator = np.random.default_rng(SEED)\n",
    "sample = distribution.rvs(SAMPLE, random_state=random_generator)"
   ]
  },
  {
   "cell_type": "code",
   "execution_count": null,
   "id": "29201267",
   "metadata": {},
   "outputs": [],
   "source": [
    "sns.histplot(sample)\n",
    "plt.axvline(TRUE_MEAN, color=\"firebrick\", linestyle=\"--\", label=f\"Mean={TRUE_MEAN:.3f}\")\n",
    "plt.legend();"
   ]
  },
  {
   "cell_type": "code",
   "execution_count": null,
   "id": "76d95b4a",
   "metadata": {},
   "outputs": [],
   "source": [
    "bootstrap_methods = {\n",
    "    \"bayesian\": bootstrap_bayesian,\n",
    "    \"jitter\": bootstrap_with_jitter,\n",
    "    \"non_parametric\": bootstrap_non_parametric,\n",
    "    \"kde\": bootstrap_kde,\n",
    "}"
   ]
  },
  {
   "cell_type": "code",
   "execution_count": null,
   "id": "28df877a",
   "metadata": {},
   "outputs": [],
   "source": [
    "runs = []\n",
    "for method_name, method in tqdm(bootstrap_methods.items(), desc=\"Outer Loop\", position=0):\n",
    "    outer_bootstraps = bootstrap_non_parametric(sample, bootstrap_size=BOOTSTRAPS_OUTER, random_generator=random_generator)\n",
    "    for inner_index, outer_bootstrap in tqdm(enumerate(outer_bootstraps.T), total=BOOTSTRAPS_OUTER, desc=f\"Inner Loop - {method_name}\"):\n",
    "        inner_bootstrap = method(outer_bootstrap, bootstrap_size=BOOTSTRAPS_INNER, random_generator=random_generator)\n",
    "        result = inner_index, method_name, statistic_of_interest(inner_bootstrap)\n",
    "        runs.append(result)"
   ]
  },
  {
   "cell_type": "code",
   "execution_count": null,
   "id": "85188902",
   "metadata": {},
   "outputs": [],
   "source": [
    "df = pd.DataFrame(runs, columns=[\"outer_index\", \"method\", \"means\"]).explode(\"means\")\n",
    "df"
   ]
  },
  {
   "cell_type": "code",
   "execution_count": null,
   "id": "4023c76e",
   "metadata": {},
   "outputs": [],
   "source": [
    "summary_df = (\n",
    "    df.groupby([\"method\", \"outer_index\"])\n",
    "    .agg(\n",
    "        lower=(\"means\", partial(np.quantile, q=0.025)),\n",
    "        upper=(\"means\", partial(np.quantile, q=0.975)),\n",
    "    )\n",
    "    .assign(\n",
    "        width=lambda x: x.upper - x.lower,\n",
    "        midpoint=lambda x: (x.upper + x.lower) / 2,\n",
    "    )\n",
    "    .reset_index(drop=False)\n",
    ")\n",
    "summary_df"
   ]
  },
  {
   "cell_type": "code",
   "execution_count": null,
   "id": "0cb3a23f",
   "metadata": {},
   "outputs": [],
   "source": [
    "def coverage_ratio(true_value, lower, upper):\n",
    "    return np.mean((true_value >= lower) & (true_value <= upper))"
   ]
  },
  {
   "cell_type": "code",
   "execution_count": null,
   "id": "122a6ea3",
   "metadata": {},
   "outputs": [],
   "source": [
    "def regression_mwi_score(\n",
    "    y_true,\n",
    "    lower,\n",
    "    upper,\n",
    "    confidence_level: float = 0.95\n",
    ") -> float:\n",
    "\n",
    "    y_pis = np.stack([lower, upper]).T[:, :, np.newaxis]\n",
    "    y_pred_low = np.minimum(y_pis[:, 0, 0], y_pis[:, 1, 0])\n",
    "    y_pred_up = np.maximum(y_pis[:, 0, 0], y_pis[:, 1, 0])\n",
    "\n",
    "    width = np.sum(y_pred_up) - np.sum(y_pred_low)  # type: ignore\n",
    "    error_above = np.sum((y_true - y_pred_up)[y_true > y_pred_up])\n",
    "    error_below = np.sum((y_pred_low - y_true)[y_true < y_pred_low])\n",
    "    total_error = error_above + error_below\n",
    "    mwi = (width + total_error * 2 / (1 - confidence_level)) / len(lower)\n",
    "    return mwi"
   ]
  },
  {
   "cell_type": "code",
   "execution_count": null,
   "id": "0410d6c2",
   "metadata": {},
   "outputs": [],
   "source": [
    "def isd_from_kde(samples, grid_size=20):\n",
    "    kde = gaussian_kde(samples)\n",
    "    x = np.linspace(min(samples), max(samples), grid_size)\n",
    "    dx = x[1] - x[0]\n",
    "    f_vals = kde(x)\n",
    "    \n",
    "    second_deriv = np.gradient(np.gradient(f_vals, dx), dx)\n",
    "    \n",
    "    isd = np.sum(second_deriv**2) * dx\n",
    "\n",
    "    return isd\n",
    "\n",
    "def entropy(samples, grid_size=20):\n",
    "    kde = gaussian_kde(samples)\n",
    "    x = np.linspace(min(samples), max(samples), grid_size)\n",
    "    dx = x[1] - x[0]\n",
    "    f_vals = kde(x)\n",
    "\n",
    "    f_norm = f_vals / np.sum(f_vals * dx) \n",
    "    return -np.sum(f_norm * np.log(f_norm + 1e-12)) * dx"
   ]
  },
  {
   "cell_type": "code",
   "execution_count": null,
   "id": "645f9563",
   "metadata": {},
   "outputs": [],
   "source": [
    "from scipy import stats\n",
    "from scores.probability import crps_cdf\n",
    "import xarray\n",
    "\n",
    "def cprs(true_value, samples, grid_size=20):\n",
    "    x = np.linspace(min(samples), max(samples), grid_size)\n",
    "    fcst_cdf = stats.norm.cdf(x, loc=0)\n",
    "    fcst_array = xarray.DataArray(coords={'temperature': x}, data=fcst_cdf)\n",
    "    obs_array = xarray.DataArray(true_value)\n",
    "    return crps_cdf(fcst_array, obs_array, threshold_dim='temperature').total.values.round(3)"
   ]
  },
  {
   "cell_type": "code",
   "execution_count": null,
   "id": "da00a41c",
   "metadata": {},
   "outputs": [],
   "source": [
    "runs_df = pd.concat([\n",
    "    summary_df.groupby(\"method\").sample(frac=1, replace=True, random_state=boot).assign(run=boot)\n",
    "    for boot in range(RUNS)\n",
    "])\n",
    "runs_df"
   ]
  },
  {
   "cell_type": "code",
   "execution_count": null,
   "id": "bfeae069",
   "metadata": {},
   "outputs": [],
   "source": [
    "aggregated_metrics = {\n",
    "    \"coverage_ratio\": lambda x: coverage_ratio(TRUE_MEAN, x.lower, x.upper),\n",
    "    \"mwi\": lambda x: regression_mwi_score(TRUE_MEAN, x.lower, x.upper),\n",
    "    \"width_mean\": lambda x: np.mean(x.upper - x.lower),\n",
    "    \"lower_std\": lambda x: np.std(x.lower),\n",
    "    \"upper_std\": lambda x: np.std(x.upper),\n",
    "    # \"entropy_width\": lambda x: entropy(x.width),\n",
    "    # \"entropy_midpoint\": lambda x: entropy(x.midpoint),\n",
    "    \"bias_midpoint\": lambda x: np.mean(x.midpoint) - TRUE_MEAN,\n",
    "}\n",
    "\n",
    "grouped_runs = runs_df.groupby([\"method\", \"run\"])\n",
    "\n",
    "aggregated_data = {}\n",
    "for metric_name, metric in aggregated_metrics.items():\n",
    "    aggregated_data[metric_name] = grouped_runs.apply(metric)"
   ]
  },
  {
   "cell_type": "code",
   "execution_count": null,
   "id": "0c528c6a",
   "metadata": {},
   "outputs": [],
   "source": [
    "aggregated_df = pd.concat([\n",
    "    dataframe.to_frame(\"value\").assign(metric=metric_name)\n",
    "    for metric_name, dataframe in aggregated_data.items()\n",
    "]).reset_index()"
   ]
  },
  {
   "cell_type": "code",
   "execution_count": null,
   "id": "50b475e2",
   "metadata": {},
   "outputs": [],
   "source": [
    "data_metrics = {\n",
    "    \"log(isd)\": lambda x: np.log(isd_from_kde(x.means.astype(np.float64))),\n",
    "    \"cprs\": lambda x: cprs(TRUE_MEAN, x.means.astype(np.float64)),\n",
    "    \"bias_point\": lambda x: np.mean(x.means) - TRUE_MEAN\n",
    "                        \n",
    "}\n",
    "\n",
    "df_grouped = df.groupby([\"method\", \"outer_index\"])\n",
    "\n",
    "data_aggregated_data = {}\n",
    "for metric_name, metric in data_metrics.items():\n",
    "    data_aggregated_data[metric_name] = df_grouped.apply(metric)"
   ]
  },
  {
   "cell_type": "code",
   "execution_count": null,
   "id": "67058387",
   "metadata": {},
   "outputs": [],
   "source": [
    "data_aggregated_df = pd.concat([\n",
    "    dataframe.to_frame(\"value\").assign(metric=metric_name)\n",
    "    for metric_name, dataframe in data_aggregated_data.items()\n",
    "]).reset_index()"
   ]
  },
  {
   "cell_type": "code",
   "execution_count": null,
   "id": "377ad4bc",
   "metadata": {},
   "outputs": [],
   "source": [
    "study_summary_df = pd.concat([aggregated_df, data_aggregated_df]).drop([\"run\", \"outer_index\"], axis=1)\n",
    "study_summary_df"
   ]
  },
  {
   "cell_type": "code",
   "execution_count": null,
   "id": "79ac8044",
   "metadata": {},
   "outputs": [],
   "source": [
    "facet = sns.FacetGrid(data=study_summary_df, col=\"metric\", height=4, aspect=1.61, sharey=False, col_wrap=3)\n",
    "facet.map_dataframe(sns.pointplot, x=\"method\", hue=\"method\", y=\"value\", join=False, errorbar=(\"pi\", 95), capsize=0.2)\n",
    "facet.add_legend();"
   ]
  },
  {
   "cell_type": "code",
   "execution_count": null,
   "id": "71b587eb",
   "metadata": {},
   "outputs": [],
   "source": [
    "df"
   ]
  },
  {
   "cell_type": "code",
   "execution_count": null,
   "id": "02e6604c",
   "metadata": {},
   "outputs": [],
   "source": [
    "data_stabilization_df = (\n",
    "    df.groupby([\"method\"])\n",
    "                    .expanding()\n",
    "                    .mean()\n",
    "                    .reset_index()\n",
    ")\n",
    "data_stabilization_df[\"level_1\"] = data_stabilization_df.groupby([\"method\"]).cumcount()"
   ]
  },
  {
   "cell_type": "code",
   "execution_count": null,
   "id": "f2fdbf25",
   "metadata": {},
   "outputs": [],
   "source": [
    "fig, ax = plt.subplots(figsize=(16, 6))\n",
    "sns.lineplot(data=data_stabilization_df, x=\"level_1\", hue=\"method\", y=\"means\", ax=ax)\n",
    "ax.axhline(TRUE_MEAN, linestyle=\"--\", color=\"dimgrey\")"
   ]
  },
  {
   "cell_type": "code",
   "execution_count": null,
   "id": "cf546d85",
   "metadata": {},
   "outputs": [],
   "source": [
    "stabilization_df = (\n",
    "    study_summary_df.groupby([\"method\", \"metric\"])\n",
    "                    .expanding()\n",
    "                    .mean()\n",
    "                    .reset_index()\n",
    ")\n",
    "stabilization_df[\"level_2\"] = stabilization_df.groupby([\"method\", \"metric\"]).cumcount()"
   ]
  },
  {
   "cell_type": "code",
   "execution_count": null,
   "id": "738055d4",
   "metadata": {},
   "outputs": [],
   "source": [
    "facet = sns.FacetGrid(\n",
    "    data=stabilization_df,\n",
    "    col=\"metric\",\n",
    "    height=4,\n",
    "    aspect=1.61,\n",
    "    sharex=False,\n",
    "    sharey=False,\n",
    "    col_wrap=3,\n",
    ")\n",
    "facet.map_dataframe(sns.lineplot, x=\"level_2\", hue=\"method\", y=\"value\")\n",
    "facet.add_legend();"
   ]
  },
  {
   "cell_type": "code",
   "execution_count": null,
   "id": "da120aad",
   "metadata": {},
   "outputs": [],
   "source": []
  }
 ],
 "metadata": {
  "kernelspec": {
   "display_name": ".venv",
   "language": "python",
   "name": "python3"
  },
  "language_info": {
   "codemirror_mode": {
    "name": "ipython",
    "version": 3
   },
   "file_extension": ".py",
   "mimetype": "text/x-python",
   "name": "python",
   "nbconvert_exporter": "python",
   "pygments_lexer": "ipython3",
   "version": "3.12.6"
  }
 },
 "nbformat": 4,
 "nbformat_minor": 5
}
